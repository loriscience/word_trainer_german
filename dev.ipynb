{
 "cells": [
  {
   "cell_type": "code",
   "execution_count": 1,
   "metadata": {
    "tags": []
   },
   "outputs": [],
   "source": [
    "import pandas as pd\n",
    "import numpy as np"
   ]
  },
  {
   "cell_type": "markdown",
   "metadata": {
    "tags": []
   },
   "source": [
    "## Overall Questions"
   ]
  },
  {
   "cell_type": "code",
   "execution_count": 2,
   "metadata": {},
   "outputs": [],
   "source": [
    "df = pd.read_csv(\"Wörterbuch.csv\")"
   ]
  },
  {
   "cell_type": "code",
   "execution_count": 3,
   "metadata": {},
   "outputs": [
    {
     "data": {
      "text/html": [
       "<div>\n",
       "<style scoped>\n",
       "    .dataframe tbody tr th:only-of-type {\n",
       "        vertical-align: middle;\n",
       "    }\n",
       "\n",
       "    .dataframe tbody tr th {\n",
       "        vertical-align: top;\n",
       "    }\n",
       "\n",
       "    .dataframe thead th {\n",
       "        text-align: right;\n",
       "    }\n",
       "</style>\n",
       "<table border=\"1\" class=\"dataframe\">\n",
       "  <thead>\n",
       "    <tr style=\"text-align: right;\">\n",
       "      <th></th>\n",
       "      <th>Diffuculty</th>\n",
       "      <th>Type</th>\n",
       "      <th>Artikel</th>\n",
       "      <th>Word</th>\n",
       "      <th>Konjugation</th>\n",
       "      <th>Prateritum</th>\n",
       "      <th>Perfekt</th>\n",
       "      <th>Regelmäßige</th>\n",
       "      <th>Plural</th>\n",
       "      <th>Komparativ</th>\n",
       "      <th>Superlativ</th>\n",
       "      <th>Meaning</th>\n",
       "      <th>Sample_Sentence</th>\n",
       "    </tr>\n",
       "  </thead>\n",
       "  <tbody>\n",
       "    <tr>\n",
       "      <th>35</th>\n",
       "      <td>B2</td>\n",
       "      <td>Adjektive</td>\n",
       "      <td>-</td>\n",
       "      <td>weltbekannt</td>\n",
       "      <td>-</td>\n",
       "      <td>-</td>\n",
       "      <td>-</td>\n",
       "      <td>-</td>\n",
       "      <td>-</td>\n",
       "      <td>keine komparativ</td>\n",
       "      <td>keine superlativ</td>\n",
       "      <td>world-famous</td>\n",
       "      <td>Der Kölner Dom ist weltbekannt</td>\n",
       "    </tr>\n",
       "    <tr>\n",
       "      <th>36</th>\n",
       "      <td>A2</td>\n",
       "      <td>Noun</td>\n",
       "      <td>der</td>\n",
       "      <td>Stau</td>\n",
       "      <td>-</td>\n",
       "      <td>-</td>\n",
       "      <td>-</td>\n",
       "      <td>-</td>\n",
       "      <td>Staue</td>\n",
       "      <td>-</td>\n",
       "      <td>-</td>\n",
       "      <td>traffic</td>\n",
       "      <td>Tut mir leid, ich stehe im Stau</td>\n",
       "    </tr>\n",
       "    <tr>\n",
       "      <th>37</th>\n",
       "      <td>B1</td>\n",
       "      <td>Adjektive</td>\n",
       "      <td>-</td>\n",
       "      <td>speziell</td>\n",
       "      <td>-</td>\n",
       "      <td>-</td>\n",
       "      <td>-</td>\n",
       "      <td>-</td>\n",
       "      <td>-</td>\n",
       "      <td>spezieller</td>\n",
       "      <td>am speziellsten</td>\n",
       "      <td>special</td>\n",
       "      <td>Für Ausländer gibt es in allen Ländern speziel...</td>\n",
       "    </tr>\n",
       "    <tr>\n",
       "      <th>38</th>\n",
       "      <td>C1</td>\n",
       "      <td>Verb</td>\n",
       "      <td>-</td>\n",
       "      <td>ausreden</td>\n",
       "      <td>redet aus</td>\n",
       "      <td>redete aus</td>\n",
       "      <td>hat ausgeredet</td>\n",
       "      <td>1</td>\n",
       "      <td>-</td>\n",
       "      <td>-</td>\n",
       "      <td>-</td>\n",
       "      <td>make an excuse, talk out of, finish speaking</td>\n",
       "      <td>Lass mich doch ausreden !</td>\n",
       "    </tr>\n",
       "    <tr>\n",
       "      <th>39</th>\n",
       "      <td>A2</td>\n",
       "      <td>Noun</td>\n",
       "      <td>die</td>\n",
       "      <td>Ausrede</td>\n",
       "      <td>-</td>\n",
       "      <td>-</td>\n",
       "      <td>-</td>\n",
       "      <td>-</td>\n",
       "      <td>Ausreden</td>\n",
       "      <td>-</td>\n",
       "      <td>-</td>\n",
       "      <td>excuse</td>\n",
       "      <td>Tom hat immer Ausreden</td>\n",
       "    </tr>\n",
       "  </tbody>\n",
       "</table>\n",
       "</div>"
      ],
      "text/plain": [
       "   Diffuculty       Type Artikel         Word Konjugation  Prateritum  \\\n",
       "35         B2  Adjektive       -  weltbekannt           -           -   \n",
       "36         A2       Noun     der         Stau           -           -   \n",
       "37         B1  Adjektive       -     speziell           -           -   \n",
       "38         C1       Verb       -     ausreden   redet aus  redete aus   \n",
       "39         A2       Noun     die      Ausrede           -           -   \n",
       "\n",
       "           Perfekt Regelmäßige    Plural        Komparativ        Superlativ  \\\n",
       "35               -           -         -  keine komparativ  keine superlativ   \n",
       "36               -           -     Staue                 -                 -   \n",
       "37               -           -         -        spezieller   am speziellsten   \n",
       "38  hat ausgeredet           1         -                 -                 -   \n",
       "39               -           -  Ausreden                 -                 -   \n",
       "\n",
       "                                         Meaning  \\\n",
       "35                                  world-famous   \n",
       "36                                       traffic   \n",
       "37                                       special   \n",
       "38  make an excuse, talk out of, finish speaking   \n",
       "39                                        excuse   \n",
       "\n",
       "                                      Sample_Sentence  \n",
       "35                     Der Kölner Dom ist weltbekannt  \n",
       "36                    Tut mir leid, ich stehe im Stau  \n",
       "37  Für Ausländer gibt es in allen Ländern speziel...  \n",
       "38                          Lass mich doch ausreden !  \n",
       "39                             Tom hat immer Ausreden  "
      ]
     },
     "execution_count": 3,
     "metadata": {},
     "output_type": "execute_result"
    }
   ],
   "source": [
    "df.tail()"
   ]
  },
  {
   "cell_type": "markdown",
   "metadata": {},
   "source": [
    "## TODO ## \n",
    "\n",
    "1 - Add score calculater and generate csv file add over time --> Sample : 43 Question 35 Correct --> 35 / 43 overall score  \n",
    "\n",
    "\n"
   ]
  },
  {
   "cell_type": "code",
   "execution_count": 4,
   "metadata": {},
   "outputs": [],
   "source": [
    "\n",
    "def start_trainer() : \n",
    "\n",
    "    print(\"What would you like to study ? \")\n",
    "\n",
    "    choose1 = int(input(\" 1 : Verb\\n 2 : Noun\\n 3 : Adjektive\\n\"))\n",
    "    print(\"\")\n",
    "\n",
    "    false_known_words = []\n",
    "\n",
    "\n",
    "    \n",
    "    words = pd.read_csv(\"Wörterbuch.csv\")\n",
    "    \n",
    "    \n",
    "    if choose1 == 1 : \n",
    "        \n",
    "        \n",
    "        selected_words = words[words[\"Type\"] == \"Verb\"]\n",
    "\n",
    "        for row in selected_words.itertuples():\n",
    "\n",
    "            print(f\"# Diffuculty {row.Diffuculty} -- {row.Word}\" )\n",
    "\n",
    "            val1 = input(f\"What is 3rd form of the verb\")\n",
    "            if val1 == row.Konjugation : \n",
    "                print(\"-->   Correct\")\n",
    "\n",
    "            else : \n",
    "                print(f\"-->   False, correct form would be {row.Konjugation}\")\n",
    "                false_known_words.append(row.Words)\n",
    "\n",
    "\n",
    "            val2 = input(f\"What is the perfekt form of the verb\")\n",
    "            if val2 == row.Perfekt : \n",
    "                print(\"-->   Correct\")\n",
    "\n",
    "            else : \n",
    "                print(f\"-->   False, correct form would be {row.Perfekt}\")\n",
    "                false_known_words.append(row.Words)\n",
    "\n",
    "\n",
    "            val3 = input(f\"What is the präteritum form of the verb\")\n",
    "            if val3 == row.Prateritum : \n",
    "                print(\"-->   Correct\")\n",
    "            else : \n",
    "                print(f\"-->   False, correct form would be {row.Prateritum}\")\n",
    "                false_known_words.append(row.Words)\n",
    "\n",
    "            \n",
    "            print(\"\")\n",
    "            print(\"-->   The meaning of the word is :\",row.Meaning)      \n",
    "          \n",
    "            print(\"Sample sentence : \", row.Sample_Sentence)\n",
    "\n",
    "            print(\"\")\n",
    "            print(\"<<<<<<<<<<<<<<<<<<<< *** <<<<<<<<<<<<<<<<<<<<\")\n",
    "            print(\"\")\n",
    "            \n",
    "\n",
    "\n",
    "    if choose1 == 2 : \n",
    "\n",
    "        selected_words = words[words[\"Type\"] == \"Noun\"]\n",
    "        \n",
    "        for row in selected_words.itertuples():\n",
    "            print(f\"# Diffuculty {row.Diffuculty} -- {row.Word}\" )\n",
    "    \n",
    "            val1 = input(\"What is artikel of the noun\")\n",
    "    \n",
    "            if val1.lower() == row.Artikel : \n",
    "                print(\"-->   Correct\")\n",
    "            else: \n",
    "                print(f\"-->   False, correct answer  would be {row.Artikel}\")\n",
    "                false_known_words.append(row.Words)\n",
    "    \n",
    "            val2 = input(\"What is plural form of the noun\")\n",
    "    \n",
    "            if val2.lower() == row.Plural.lower() : \n",
    "                print(\"-->   Correct\")\n",
    "            else : \n",
    "                print(f\"-->   False, correct answer  would be {row.Plural}\")\n",
    "                false_known_words.append(row.Words)\n",
    "\n",
    "\n",
    "\n",
    "            \n",
    "            print(\"\")\n",
    "            print(\"--> The meaning of the word is :\",row.Meaning)    \n",
    "\n",
    "    \n",
    "            print(\"Sample sentence : \", row.Sample_Sentence)\n",
    "\n",
    "            print(\"\")\n",
    "            print(\"<<<<<<<<<<<<<<<<<<<< *** <<<<<<<<<<<<<<<<<<<<\")\n",
    "            print(\"\")\n",
    "            \n",
    "\n",
    "\n",
    "    if choose1 == 3 :\n",
    "\n",
    "        selected_words = words[words[\"Type\"] == \"Adjektive\"]\n",
    "        \n",
    "        for row in selected_words.itertuples():\n",
    "            \n",
    "            print(f\"# Diffuculty {row.Diffuculty} -- {row.Word}\" )\n",
    "            \n",
    "            val1 = input(\"What is komparative form of the adjektive\")\n",
    "            \n",
    "            if val1.lower() == row.Komparativ : \n",
    "                print(\"-->   Correct\")\n",
    "            else: \n",
    "                print(f\"-->   False, correct answer  would be {row.Komparativ}\")\n",
    "\n",
    "            val2 = input(\"What is superlative form of the adjektive\")\n",
    "\n",
    "            if val2.lower() == row.Superlativ : \n",
    "                print(\"-->   Correct\")\n",
    "            else: \n",
    "                print(f\"-->   False, correct answer  would be {row.Superlativ}\")\n",
    "\n",
    "            \n",
    "            print(\"\")\n",
    "            print(\"--> The meaning of the word is :\",row.Meaning)    \n",
    "\n",
    "    \n",
    "            print(\"Sample sentence : \", row.Sample_Sentence)\n",
    "\n",
    "            print(\"\")\n",
    "            print(\"<<<<<<<<<<<<<<<<<<<< *** <<<<<<<<<<<<<<<<<<<<\")\n",
    "            print(\"\")\n",
    "            \n",
    "\n",
    "\n",
    "    # eliminate duplicates \n",
    "    false_known_words = set(false_known_words)\n",
    "    \n",
    "    print(\"Here are the failed words\")\n",
    "    print(false_known_words)\n",
    "    "
   ]
  },
  {
   "cell_type": "code",
   "execution_count": 5,
   "metadata": {},
   "outputs": [
    {
     "name": "stdout",
     "output_type": "stream",
     "text": [
      "What would you like to study ? \n"
     ]
    },
    {
     "name": "stdin",
     "output_type": "stream",
     "text": [
      " 1 : Verb\n",
      " 2 : Noun\n",
      " 3 : Adjektive\n",
      " 2\n"
     ]
    },
    {
     "name": "stdout",
     "output_type": "stream",
     "text": [
      "\n",
      "# Diffuculty A2 -- Bleistift\n"
     ]
    },
    {
     "name": "stdin",
     "output_type": "stream",
     "text": [
      "What is artikel of the noun der\n"
     ]
    },
    {
     "name": "stdout",
     "output_type": "stream",
     "text": [
      "-->   Correct\n"
     ]
    },
    {
     "name": "stdin",
     "output_type": "stream",
     "text": [
      "What is plural form of the noun bleistifte\n"
     ]
    },
    {
     "name": "stdout",
     "output_type": "stream",
     "text": [
      "-->   Correct\n",
      "\n",
      "--> The meaning of the word is : pencil\n",
      "Sample sentence :  Hast du einen Bleistift ? \n",
      "\n",
      "<<<<<<<<<<<<<<<<<<<< *** <<<<<<<<<<<<<<<<<<<<\n",
      "\n",
      "# Diffuculty A2 -- Stein\n"
     ]
    },
    {
     "name": "stdin",
     "output_type": "stream",
     "text": [
      "What is artikel of the noun er\n"
     ]
    },
    {
     "name": "stdout",
     "output_type": "stream",
     "text": [
      "-->   False, correct answer  would be der\n"
     ]
    },
    {
     "name": "stdin",
     "output_type": "stream",
     "text": [
      "What is plural form of the noun steine\n"
     ]
    },
    {
     "name": "stdout",
     "output_type": "stream",
     "text": [
      "-->   Correct\n",
      "\n",
      "--> The meaning of the word is : rock\n",
      "Sample sentence :  Der Stein ist ins Wasser gefallen.\n",
      "\n",
      "<<<<<<<<<<<<<<<<<<<< *** <<<<<<<<<<<<<<<<<<<<\n",
      "\n",
      "# Diffuculty A2 -- Ausland\n"
     ]
    },
    {
     "name": "stdin",
     "output_type": "stream",
     "text": [
      "What is artikel of the noun das\n"
     ]
    },
    {
     "name": "stdout",
     "output_type": "stream",
     "text": [
      "-->   Correct\n"
     ]
    },
    {
     "name": "stdin",
     "output_type": "stream",
     "text": [
      "What is plural form of the noun auslands\n"
     ]
    },
    {
     "name": "stdout",
     "output_type": "stream",
     "text": [
      "-->   Correct\n",
      "\n",
      "--> The meaning of the word is : foreign country\n",
      "Sample sentence :  26% der Einwohner kommen aus dem Ausland. \n",
      "\n",
      "<<<<<<<<<<<<<<<<<<<< *** <<<<<<<<<<<<<<<<<<<<\n",
      "\n",
      "# Diffuculty A2 -- Einwohner\n"
     ]
    },
    {
     "name": "stdin",
     "output_type": "stream",
     "text": [
      "What is artikel of the noun der\n"
     ]
    },
    {
     "name": "stdout",
     "output_type": "stream",
     "text": [
      "-->   Correct\n"
     ]
    },
    {
     "name": "stdin",
     "output_type": "stream",
     "text": [
      "What is plural form of the noun einwohners\n"
     ]
    },
    {
     "name": "stdout",
     "output_type": "stream",
     "text": [
      "-->   Correct\n",
      "\n",
      "--> The meaning of the word is : resident\n",
      "Sample sentence :  26% der Einwohner kommen aus dem Ausland. \n",
      "\n",
      "<<<<<<<<<<<<<<<<<<<< *** <<<<<<<<<<<<<<<<<<<<\n",
      "\n",
      "# Diffuculty A2 -- Rechnung\n"
     ]
    },
    {
     "name": "stdin",
     "output_type": "stream",
     "text": [
      "What is artikel of the noun die\n"
     ]
    },
    {
     "name": "stdout",
     "output_type": "stream",
     "text": [
      "-->   Correct\n"
     ]
    },
    {
     "name": "stdin",
     "output_type": "stream",
     "text": [
      "What is plural form of the noun rechnungs\n"
     ]
    },
    {
     "name": "stdout",
     "output_type": "stream",
     "text": [
      "-->   False, correct answer  would be Rechnungen\n",
      "\n",
      "--> The meaning of the word is : bill, check\n",
      "Sample sentence :  Die Rechnung bitte. \n",
      "\n",
      "<<<<<<<<<<<<<<<<<<<< *** <<<<<<<<<<<<<<<<<<<<\n",
      "\n",
      "# Diffuculty A2 -- Fehler\n"
     ]
    },
    {
     "name": "stdin",
     "output_type": "stream",
     "text": [
      "What is artikel of the noun die\n"
     ]
    },
    {
     "name": "stdout",
     "output_type": "stream",
     "text": [
      "-->   False, correct answer  would be der\n"
     ]
    },
    {
     "name": "stdin",
     "output_type": "stream",
     "text": [
      "What is plural form of the noun fehlers\n"
     ]
    },
    {
     "name": "stdout",
     "output_type": "stream",
     "text": [
      "-->   Correct\n",
      "\n",
      "--> The meaning of the word is : mistake\n",
      "Sample sentence :  Jeder macht Fehler\n",
      "\n",
      "<<<<<<<<<<<<<<<<<<<< *** <<<<<<<<<<<<<<<<<<<<\n",
      "\n",
      "# Diffuculty A2 -- Nachbar\n"
     ]
    },
    {
     "name": "stdin",
     "output_type": "stream",
     "text": [
      "What is artikel of the noun der\n"
     ]
    },
    {
     "name": "stdout",
     "output_type": "stream",
     "text": [
      "-->   Correct\n"
     ]
    },
    {
     "name": "stdin",
     "output_type": "stream",
     "text": [
      "What is plural form of the noun nachbars\n"
     ]
    },
    {
     "name": "stdout",
     "output_type": "stream",
     "text": [
      "-->   False, correct answer  would be Nachbarn\n",
      "\n",
      "--> The meaning of the word is : neighbor\n",
      "Sample sentence :  Polen ist ein Nachbar Deutschlands \n",
      "\n",
      "<<<<<<<<<<<<<<<<<<<< *** <<<<<<<<<<<<<<<<<<<<\n",
      "\n",
      "# Diffuculty A2 -- Möglichkeit\n"
     ]
    },
    {
     "name": "stdin",
     "output_type": "stream",
     "text": [
      "What is artikel of the noun die\n"
     ]
    },
    {
     "name": "stdout",
     "output_type": "stream",
     "text": [
      "-->   Correct\n"
     ]
    },
    {
     "name": "stdin",
     "output_type": "stream",
     "text": [
      "What is plural form of the noun möglichkeiten\n"
     ]
    },
    {
     "name": "stdout",
     "output_type": "stream",
     "text": [
      "-->   Correct\n",
      "\n",
      "--> The meaning of the word is : option, possibility\n",
      "Sample sentence :  Es gibt mehrere Möglichkeiten. \n",
      "\n",
      "<<<<<<<<<<<<<<<<<<<< *** <<<<<<<<<<<<<<<<<<<<\n",
      "\n",
      "# Diffuculty A2 -- Spiegel\n"
     ]
    },
    {
     "name": "stdin",
     "output_type": "stream",
     "text": [
      "What is artikel of the noun der\n"
     ]
    },
    {
     "name": "stdout",
     "output_type": "stream",
     "text": [
      "-->   Correct\n"
     ]
    },
    {
     "name": "stdin",
     "output_type": "stream",
     "text": [
      "What is plural form of the noun spiegels\n"
     ]
    },
    {
     "name": "stdout",
     "output_type": "stream",
     "text": [
      "-->   False, correct answer  would be Spiegel\n",
      "\n",
      "--> The meaning of the word is : mirror\n",
      "Sample sentence :  Wo ist ein Spiegel ? \n",
      "\n",
      "<<<<<<<<<<<<<<<<<<<< *** <<<<<<<<<<<<<<<<<<<<\n",
      "\n",
      "# Diffuculty A2 -- Stau\n"
     ]
    },
    {
     "name": "stdin",
     "output_type": "stream",
     "text": [
      "What is artikel of the noun der\n"
     ]
    },
    {
     "name": "stdout",
     "output_type": "stream",
     "text": [
      "-->   Correct\n"
     ]
    },
    {
     "name": "stdin",
     "output_type": "stream",
     "text": [
      "What is plural form of the noun stau\n"
     ]
    },
    {
     "name": "stdout",
     "output_type": "stream",
     "text": [
      "-->   False, correct answer  would be Staue\n",
      "\n",
      "--> The meaning of the word is : traffic\n",
      "Sample sentence :  Tut mir leid, ich stehe im Stau\n",
      "\n",
      "<<<<<<<<<<<<<<<<<<<< *** <<<<<<<<<<<<<<<<<<<<\n",
      "\n",
      "# Diffuculty A2 -- Ausrede\n"
     ]
    },
    {
     "name": "stdin",
     "output_type": "stream",
     "text": [
      "What is artikel of the noun die\n"
     ]
    },
    {
     "name": "stdout",
     "output_type": "stream",
     "text": [
      "-->   Correct\n"
     ]
    },
    {
     "name": "stdin",
     "output_type": "stream",
     "text": [
      "What is plural form of the noun ausreden\n"
     ]
    },
    {
     "name": "stdout",
     "output_type": "stream",
     "text": [
      "-->   Correct\n",
      "\n",
      "--> The meaning of the word is : excuse\n",
      "Sample sentence :  Tom hat immer Ausreden\n",
      "\n",
      "<<<<<<<<<<<<<<<<<<<< *** <<<<<<<<<<<<<<<<<<<<\n",
      "\n",
      "Here are the failed words\n",
      "set()\n"
     ]
    }
   ],
   "source": [
    "start_trainer()"
   ]
  },
  {
   "cell_type": "code",
   "execution_count": null,
   "metadata": {},
   "outputs": [],
   "source": []
  },
  {
   "cell_type": "code",
   "execution_count": null,
   "metadata": {},
   "outputs": [],
   "source": []
  }
 ],
 "metadata": {
  "kernelspec": {
   "display_name": "Python 3 (ipykernel)",
   "language": "python",
   "name": "python3"
  },
  "language_info": {
   "codemirror_mode": {
    "name": "ipython",
    "version": 3
   },
   "file_extension": ".py",
   "mimetype": "text/x-python",
   "name": "python",
   "nbconvert_exporter": "python",
   "pygments_lexer": "ipython3",
   "version": "3.10.12"
  },
  "vscode": {
   "interpreter": {
    "hash": "aee8b7b246df8f9039afb4144a1f6fd8d2ca17a180786b69acc140d282b71a49"
   }
  }
 },
 "nbformat": 4,
 "nbformat_minor": 4
}
