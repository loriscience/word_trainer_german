{
 "cells": [
  {
   "cell_type": "code",
   "execution_count": 2,
   "metadata": {
    "tags": []
   },
   "outputs": [],
   "source": [
    "import pandas as pd\n",
    "import numpy as np"
   ]
  },
  {
   "cell_type": "code",
   "execution_count": 3,
   "metadata": {
    "tags": []
   },
   "outputs": [],
   "source": [
    "df = pd.read_csv(\"words.csv\")"
   ]
  },
  {
   "cell_type": "code",
   "execution_count": 5,
   "metadata": {
    "tags": []
   },
   "outputs": [],
   "source": [
    "# Working on words - meanings "
   ]
  },
  {
   "cell_type": "code",
   "execution_count": 7,
   "metadata": {
    "tags": []
   },
   "outputs": [
    {
     "data": {
      "text/html": [
       "<div>\n",
       "<style scoped>\n",
       "    .dataframe tbody tr th:only-of-type {\n",
       "        vertical-align: middle;\n",
       "    }\n",
       "\n",
       "    .dataframe tbody tr th {\n",
       "        vertical-align: top;\n",
       "    }\n",
       "\n",
       "    .dataframe thead th {\n",
       "        text-align: right;\n",
       "    }\n",
       "</style>\n",
       "<table border=\"1\" class=\"dataframe\">\n",
       "  <thead>\n",
       "    <tr style=\"text-align: right;\">\n",
       "      <th></th>\n",
       "      <th>Diffuculty</th>\n",
       "      <th>Artikel</th>\n",
       "      <th>Word</th>\n",
       "      <th>Regelmäßige</th>\n",
       "      <th>Plural</th>\n",
       "      <th>Meaning</th>\n",
       "      <th>Sample Sentence</th>\n",
       "    </tr>\n",
       "  </thead>\n",
       "  <tbody>\n",
       "    <tr>\n",
       "      <th>0</th>\n",
       "      <td>A2</td>\n",
       "      <td>der</td>\n",
       "      <td>Bleistift</td>\n",
       "      <td>-</td>\n",
       "      <td>-e</td>\n",
       "      <td>pencil</td>\n",
       "      <td>Hast du einen Bleistift ?</td>\n",
       "    </tr>\n",
       "    <tr>\n",
       "      <th>1</th>\n",
       "      <td>A2</td>\n",
       "      <td>-</td>\n",
       "      <td>essen</td>\n",
       "      <td>0</td>\n",
       "      <td>-</td>\n",
       "      <td>eat</td>\n",
       "      <td>Ich esse ein Pizza.</td>\n",
       "    </tr>\n",
       "    <tr>\n",
       "      <th>2</th>\n",
       "      <td>A2</td>\n",
       "      <td>-</td>\n",
       "      <td>lesen</td>\n",
       "      <td>0</td>\n",
       "      <td>-</td>\n",
       "      <td>read</td>\n",
       "      <td>Er liest ein Buch.</td>\n",
       "    </tr>\n",
       "    <tr>\n",
       "      <th>3</th>\n",
       "      <td>A2</td>\n",
       "      <td>-</td>\n",
       "      <td>aufmachen</td>\n",
       "      <td>1</td>\n",
       "      <td>-</td>\n",
       "      <td>open</td>\n",
       "      <td>Ich mache das Fenster auf.</td>\n",
       "    </tr>\n",
       "    <tr>\n",
       "      <th>4</th>\n",
       "      <td>A2</td>\n",
       "      <td>-</td>\n",
       "      <td>zumachen</td>\n",
       "      <td>1</td>\n",
       "      <td>-</td>\n",
       "      <td>close</td>\n",
       "      <td>Ich mache das Fenster zu.</td>\n",
       "    </tr>\n",
       "  </tbody>\n",
       "</table>\n",
       "</div>"
      ],
      "text/plain": [
       "  Diffuculty Artikel       Word Regelmäßige Plural Meaning  \\\n",
       "0         A2     der  Bleistift           -     -e  pencil   \n",
       "1         A2       -      essen           0      -     eat   \n",
       "2         A2       -      lesen           0      -    read   \n",
       "3         A2       -  aufmachen           1      -    open   \n",
       "4         A2       -   zumachen           1      -   close   \n",
       "\n",
       "              Sample Sentence  \n",
       "0  Hast du einen Bleistift ?   \n",
       "1        Ich esse ein Pizza.   \n",
       "2         Er liest ein Buch.   \n",
       "3  Ich mache das Fenster auf.  \n",
       "4   Ich mache das Fenster zu.  "
      ]
     },
     "execution_count": 7,
     "metadata": {},
     "output_type": "execute_result"
    }
   ],
   "source": [
    "df.head()"
   ]
  },
  {
   "cell_type": "code",
   "execution_count": 14,
   "metadata": {
    "tags": []
   },
   "outputs": [],
   "source": [
    "words = df[[\"Artikel\", \"Word\",\"Meaning\"]]"
   ]
  },
  {
   "cell_type": "code",
   "execution_count": 35,
   "metadata": {
    "tags": []
   },
   "outputs": [],
   "source": [
    "def start_game(words): \n",
    "    \n",
    "    score = 0 \n",
    "    number_of_question = len(words)\n",
    "    \n",
    "    fail_list = []\n",
    "    \n",
    "    for row in words.itertuples() : \n",
    "        \n",
    "        \n",
    "        if row.Artikel == \"-\": \n",
    "\n",
    "            val = input(f\"What is the meaning of {row.Word} = \")\n",
    "            \n",
    "            if val.lower() == row.Meaning.lower() : \n",
    "                print(\"Correct !\")\n",
    "                \n",
    "                score += 1\n",
    "            \n",
    "            else : \n",
    "                print(\"False !\")\n",
    "                fail_list.append(row.Word)\n",
    "            \n",
    "        \n",
    "        else : \n",
    "            val = input(f\"What is the meaning of {row.Word} = \")\n",
    "            artikel = input(f\"What is the artikel of {row.Word} = \")\n",
    "            \n",
    "            \n",
    "            if val.lower() == row.Meaning.lower() and artikel.lower() == row.Artikel.lower(): \n",
    "                print(\"Correct ! \")\n",
    "                score += 1\n",
    "            \n",
    "            else : \n",
    "                print(\"False ! \")\n",
    "                fail_list.append(row.Word)\n",
    "            \n",
    "    \n",
    "        \n",
    "    print(f\"Your answered {(score / number_of_question) * 100} % of the questions correctly \")\n",
    "    print(\"Work on these words\")\n",
    "    print(fail_list)\n",
    "    "
   ]
  },
  {
   "cell_type": "code",
   "execution_count": 34,
   "metadata": {
    "tags": []
   },
   "outputs": [
    {
     "name": "stdin",
     "output_type": "stream",
     "text": [
      "What is the meaning of Bleistift =  a\n",
      "What is the artikel of Bleistift =  b\n"
     ]
    },
    {
     "name": "stdout",
     "output_type": "stream",
     "text": [
      "False ! \n"
     ]
    },
    {
     "name": "stdin",
     "output_type": "stream",
     "text": [
      "What is the meaning of essen =  abc\n"
     ]
    },
    {
     "name": "stdout",
     "output_type": "stream",
     "text": [
      "False !\n"
     ]
    },
    {
     "name": "stdin",
     "output_type": "stream",
     "text": [
      "What is the meaning of lesen =  read\n"
     ]
    },
    {
     "name": "stdout",
     "output_type": "stream",
     "text": [
      "Correct !\n"
     ]
    },
    {
     "name": "stdin",
     "output_type": "stream",
     "text": [
      "What is the meaning of aufmachen =  open\n"
     ]
    },
    {
     "name": "stdout",
     "output_type": "stream",
     "text": [
      "Correct !\n"
     ]
    },
    {
     "name": "stdin",
     "output_type": "stream",
     "text": [
      "What is the meaning of zumachen =  close\n"
     ]
    },
    {
     "name": "stdout",
     "output_type": "stream",
     "text": [
      "Correct !\n"
     ]
    },
    {
     "name": "stdin",
     "output_type": "stream",
     "text": [
      "What is the meaning of aufräumen =  tidy up\n"
     ]
    },
    {
     "name": "stdout",
     "output_type": "stream",
     "text": [
      "Correct !\n",
      "Your answered 66.66666666666666 % of the questions correctly \n"
     ]
    }
   ],
   "source": [
    "start_game(words)"
   ]
  },
  {
   "cell_type": "code",
   "execution_count": null,
   "metadata": {
    "tags": []
   },
   "outputs": [],
   "source": []
  }
 ],
 "metadata": {
  "kernelspec": {
   "display_name": "Python 3 (ipykernel)",
   "language": "python",
   "name": "python3"
  },
  "language_info": {
   "codemirror_mode": {
    "name": "ipython",
    "version": 3
   },
   "file_extension": ".py",
   "mimetype": "text/x-python",
   "name": "python",
   "nbconvert_exporter": "python",
   "pygments_lexer": "ipython3",
   "version": "3.11.0"
  },
  "vscode": {
   "interpreter": {
    "hash": "aee8b7b246df8f9039afb4144a1f6fd8d2ca17a180786b69acc140d282b71a49"
   }
  }
 },
 "nbformat": 4,
 "nbformat_minor": 4
}
