{
 "cells": [
  {
   "cell_type": "code",
   "execution_count": 1,
   "metadata": {
    "tags": []
   },
   "outputs": [],
   "source": [
    "import pandas as pd\n",
    "import numpy as np"
   ]
  },
  {
   "cell_type": "markdown",
   "metadata": {
    "tags": []
   },
   "source": [
    "## Overall Questions"
   ]
  },
  {
   "cell_type": "code",
   "execution_count": 2,
   "metadata": {},
   "outputs": [],
   "source": [
    "df = pd.read_csv(\"Wörterbuch.csv\")"
   ]
  },
  {
   "cell_type": "code",
   "execution_count": 3,
   "metadata": {},
   "outputs": [
    {
     "data": {
      "text/html": [
       "<div>\n",
       "<style scoped>\n",
       "    .dataframe tbody tr th:only-of-type {\n",
       "        vertical-align: middle;\n",
       "    }\n",
       "\n",
       "    .dataframe tbody tr th {\n",
       "        vertical-align: top;\n",
       "    }\n",
       "\n",
       "    .dataframe thead th {\n",
       "        text-align: right;\n",
       "    }\n",
       "</style>\n",
       "<table border=\"1\" class=\"dataframe\">\n",
       "  <thead>\n",
       "    <tr style=\"text-align: right;\">\n",
       "      <th></th>\n",
       "      <th>Diffuculty</th>\n",
       "      <th>Type</th>\n",
       "      <th>Artikel</th>\n",
       "      <th>Word</th>\n",
       "      <th>Konjugation</th>\n",
       "      <th>Perfekt</th>\n",
       "      <th>Regelmäßige</th>\n",
       "      <th>Plural</th>\n",
       "      <th>Meaning</th>\n",
       "      <th>Sample_Sentence</th>\n",
       "    </tr>\n",
       "  </thead>\n",
       "  <tbody>\n",
       "    <tr>\n",
       "      <th>0</th>\n",
       "      <td>A2</td>\n",
       "      <td>Noun</td>\n",
       "      <td>der</td>\n",
       "      <td>Bleistift</td>\n",
       "      <td>-</td>\n",
       "      <td>-</td>\n",
       "      <td>-</td>\n",
       "      <td>Bleistifte</td>\n",
       "      <td>pencil</td>\n",
       "      <td>Hast du einen Bleistift ?</td>\n",
       "    </tr>\n",
       "    <tr>\n",
       "      <th>1</th>\n",
       "      <td>A2</td>\n",
       "      <td>Verb</td>\n",
       "      <td>-</td>\n",
       "      <td>essen</td>\n",
       "      <td>isst</td>\n",
       "      <td>hat gegessen</td>\n",
       "      <td>0</td>\n",
       "      <td>-</td>\n",
       "      <td>eat</td>\n",
       "      <td>Ich esse ein Pizza.</td>\n",
       "    </tr>\n",
       "    <tr>\n",
       "      <th>2</th>\n",
       "      <td>A2</td>\n",
       "      <td>Verb</td>\n",
       "      <td>-</td>\n",
       "      <td>lesen</td>\n",
       "      <td>liest</td>\n",
       "      <td>hat gelesen</td>\n",
       "      <td>0</td>\n",
       "      <td>-</td>\n",
       "      <td>read</td>\n",
       "      <td>Er liest ein Buch.</td>\n",
       "    </tr>\n",
       "    <tr>\n",
       "      <th>3</th>\n",
       "      <td>A2</td>\n",
       "      <td>Verb</td>\n",
       "      <td>-</td>\n",
       "      <td>aufmachen</td>\n",
       "      <td>macht auf</td>\n",
       "      <td>hat aufgemacht</td>\n",
       "      <td>1</td>\n",
       "      <td>-</td>\n",
       "      <td>open</td>\n",
       "      <td>Ich mache das Fenster auf.</td>\n",
       "    </tr>\n",
       "    <tr>\n",
       "      <th>4</th>\n",
       "      <td>A2</td>\n",
       "      <td>Verb</td>\n",
       "      <td>-</td>\n",
       "      <td>zumachen</td>\n",
       "      <td>macht zu</td>\n",
       "      <td>hat zugemacht</td>\n",
       "      <td>1</td>\n",
       "      <td>-</td>\n",
       "      <td>close</td>\n",
       "      <td>Ich mache das Fenster zu.</td>\n",
       "    </tr>\n",
       "  </tbody>\n",
       "</table>\n",
       "</div>"
      ],
      "text/plain": [
       "  Diffuculty  Type Artikel       Word Konjugation         Perfekt Regelmäßige  \\\n",
       "0         A2  Noun     der  Bleistift           -               -           -   \n",
       "1         A2  Verb       -      essen        isst    hat gegessen           0   \n",
       "2         A2  Verb       -      lesen       liest     hat gelesen           0   \n",
       "3         A2  Verb       -  aufmachen   macht auf  hat aufgemacht           1   \n",
       "4         A2  Verb       -   zumachen    macht zu   hat zugemacht           1   \n",
       "\n",
       "       Plural Meaning             Sample_Sentence  \n",
       "0  Bleistifte  pencil  Hast du einen Bleistift ?   \n",
       "1           -     eat        Ich esse ein Pizza.   \n",
       "2           -    read         Er liest ein Buch.   \n",
       "3           -    open  Ich mache das Fenster auf.  \n",
       "4           -   close   Ich mache das Fenster zu.  "
      ]
     },
     "execution_count": 3,
     "metadata": {},
     "output_type": "execute_result"
    }
   ],
   "source": [
    "df.head()"
   ]
  },
  {
   "cell_type": "code",
   "execution_count": null,
   "metadata": {},
   "outputs": [],
   "source": [
    "# Ask for \n",
    "# if noun \n",
    "    # First show diffuculty\n",
    "    # artikel + plural + meaning\n",
    "    # show sample sentence \n",
    "# if verb \n",
    "    # First show diffuculty\n",
    "    # Konjugation + Perfekt + Meaning\n",
    "    # show sample sentence"
   ]
  },
  {
   "cell_type": "code",
   "execution_count": 16,
   "metadata": {},
   "outputs": [],
   "source": [
    "\n",
    "def start_trainer() : \n",
    "\n",
    "    print(\"What would you like to study ? \")\n",
    "\n",
    "    choose1 = int(input(\" 1 : Verb\\n 2 : Noun\\n\"))\n",
    "    print(\"\")\n",
    "\n",
    "\n",
    "\n",
    "    \n",
    "    words = pd.read_csv(\"Wörterbuch.csv\")\n",
    "    \n",
    "    \n",
    "    if choose1 == 1 : \n",
    "        \n",
    "        \n",
    "        selected_words = words[words[\"Type\"] == \"Verb\"]\n",
    "\n",
    "        for row in selected_words.itertuples():\n",
    "\n",
    "            print(f\"# Diffuculty {row.Diffuculty} -- {row.Word}\" )\n",
    "\n",
    "            val1 = input(f\"What is 3rd form of the verb\")\n",
    "            if val1 == row.Konjugation : \n",
    "                print(\"-->   Correct\")\n",
    "\n",
    "            else : \n",
    "                print(f\"-->   False, correct form would be {row.Konjugation}\")\n",
    "\n",
    "\n",
    "            val2 = input(f\"What is perfekt form of the verb\")\n",
    "            if val2 == row.Perfekt : \n",
    "                print(\"-->   Correct\")\n",
    "\n",
    "            else : \n",
    "                print(f\"-->   False, correct form would be {row.Perfekt}\")       \n",
    "\n",
    "            print(\"\")\n",
    "            print(\"-->   The meaning of the word is \",row.Meaning)      \n",
    "          \n",
    "            print(\"Sample sentence : \", row.Sample_Sentence)\n",
    "\n",
    "            print(\"\")\n",
    "            print(\"<<<<<<<<<<<<<<<<<<<< *** <<<<<<<<<<<<<<<<<<<<\")\n",
    "            print(\"\")\n",
    "            \n",
    "\n",
    "\n",
    "    if choose1 == 2 : \n",
    "\n",
    "        selected_words = words[words[\"Type\"] == \"Noun\"]\n",
    "        \n",
    "        for row in selected_words.itertuples():\n",
    "            print(f\"# Diffuculty {row.Diffuculty} -- {row.Word}\" )\n",
    "    \n",
    "            val1 = input(\"What is artikel of the noun\")\n",
    "    \n",
    "            if val1.lower() == row.Artikel : \n",
    "                print(\"-->   Correct\")\n",
    "            else: \n",
    "                print(f\"-->   False, correct answer  would be {row.Artikel}\")\n",
    "    \n",
    "            val2 = input(\"What is plural form of the noun\")\n",
    "    \n",
    "            if val2.lower() == row.Plural.lower() : \n",
    "                print(\"-->   Correct\")\n",
    "            else : \n",
    "                print(f\"-->   False, correct answer  would be {row.Plural}\")\n",
    "\n",
    "            print(\"\")\n",
    "            print(\"--> The meaning of the word is \",row.Meaning)    \n",
    "\n",
    "    \n",
    "            print(\"Sample sentence : \", row.Sample_Sentence)\n",
    "\n",
    "            print(\"\")\n",
    "            print(\"<<<<<<<<<<<<<<<<<<<< *** <<<<<<<<<<<<<<<<<<<<\")\n",
    "            print(\"\")\n",
    "            \n",
    "        \n",
    "    "
   ]
  },
  {
   "cell_type": "code",
   "execution_count": null,
   "metadata": {},
   "outputs": [
    {
     "name": "stdout",
     "output_type": "stream",
     "text": [
      "What would you like to study ? \n"
     ]
    },
    {
     "name": "stdin",
     "output_type": "stream",
     "text": [
      " 1 : Verb\n",
      " 2 : Noun\n",
      " 1\n"
     ]
    },
    {
     "name": "stdout",
     "output_type": "stream",
     "text": [
      "\n",
      "# Diffuculty A2 -- essen\n"
     ]
    },
    {
     "name": "stdin",
     "output_type": "stream",
     "text": [
      "What is 3rd form of the verb isst\n"
     ]
    },
    {
     "name": "stdout",
     "output_type": "stream",
     "text": [
      "-->   Correct\n"
     ]
    },
    {
     "name": "stdin",
     "output_type": "stream",
     "text": [
      "What is perfekt form of the verb hat gegessen\n"
     ]
    },
    {
     "name": "stdout",
     "output_type": "stream",
     "text": [
      "-->   Correct\n",
      "-->   The meaning of the word is  eat\n",
      "Sample sentence :  Ich esse ein Pizza. \n",
      "\n",
      "<<<<<<<<<<<<<<<<<<<< *** <<<<<<<<<<<<<<<<<<<<\n",
      "\n",
      "# Diffuculty A2 -- lesen\n"
     ]
    }
   ],
   "source": [
    "start_trainer()"
   ]
  },
  {
   "cell_type": "code",
   "execution_count": null,
   "metadata": {},
   "outputs": [],
   "source": []
  },
  {
   "cell_type": "code",
   "execution_count": null,
   "metadata": {},
   "outputs": [],
   "source": []
  }
 ],
 "metadata": {
  "kernelspec": {
   "display_name": "Python 3 (ipykernel)",
   "language": "python",
   "name": "python3"
  },
  "language_info": {
   "codemirror_mode": {
    "name": "ipython",
    "version": 3
   },
   "file_extension": ".py",
   "mimetype": "text/x-python",
   "name": "python",
   "nbconvert_exporter": "python",
   "pygments_lexer": "ipython3",
   "version": "3.10.12"
  },
  "vscode": {
   "interpreter": {
    "hash": "aee8b7b246df8f9039afb4144a1f6fd8d2ca17a180786b69acc140d282b71a49"
   }
  }
 },
 "nbformat": 4,
 "nbformat_minor": 4
}
