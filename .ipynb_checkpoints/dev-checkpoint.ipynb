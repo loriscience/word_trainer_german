{
 "cells": [
  {
   "cell_type": "code",
   "execution_count": 1,
   "metadata": {
    "tags": []
   },
   "outputs": [],
   "source": [
    "import pandas as pd\n",
    "import numpy as np"
   ]
  },
  {
   "cell_type": "markdown",
   "metadata": {
    "tags": []
   },
   "source": [
    "## Overall Questions"
   ]
  },
  {
   "cell_type": "code",
   "execution_count": 2,
   "metadata": {},
   "outputs": [],
   "source": [
    "df = pd.read_csv(\"Wörterbuch.csv\")"
   ]
  },
  {
   "cell_type": "code",
   "execution_count": 3,
   "metadata": {},
   "outputs": [
    {
     "data": {
      "text/html": [
       "<div>\n",
       "<style scoped>\n",
       "    .dataframe tbody tr th:only-of-type {\n",
       "        vertical-align: middle;\n",
       "    }\n",
       "\n",
       "    .dataframe tbody tr th {\n",
       "        vertical-align: top;\n",
       "    }\n",
       "\n",
       "    .dataframe thead th {\n",
       "        text-align: right;\n",
       "    }\n",
       "</style>\n",
       "<table border=\"1\" class=\"dataframe\">\n",
       "  <thead>\n",
       "    <tr style=\"text-align: right;\">\n",
       "      <th></th>\n",
       "      <th>Diffuculty</th>\n",
       "      <th>Type</th>\n",
       "      <th>Artikel</th>\n",
       "      <th>Word</th>\n",
       "      <th>Konjugation</th>\n",
       "      <th>Prateritum</th>\n",
       "      <th>Perfekt</th>\n",
       "      <th>Regelmäßige</th>\n",
       "      <th>Plural</th>\n",
       "      <th>Komparativ</th>\n",
       "      <th>Superlativ</th>\n",
       "      <th>Meaning</th>\n",
       "      <th>Sample_Sentence</th>\n",
       "    </tr>\n",
       "  </thead>\n",
       "  <tbody>\n",
       "    <tr>\n",
       "      <th>35</th>\n",
       "      <td>B2</td>\n",
       "      <td>Adjektive</td>\n",
       "      <td>-</td>\n",
       "      <td>weltbekannt</td>\n",
       "      <td>-</td>\n",
       "      <td>-</td>\n",
       "      <td>-</td>\n",
       "      <td>-</td>\n",
       "      <td>-</td>\n",
       "      <td>keine komparativ</td>\n",
       "      <td>keine superlativ</td>\n",
       "      <td>world-famous</td>\n",
       "      <td>Der Kölner Dom ist weltbekannt</td>\n",
       "    </tr>\n",
       "    <tr>\n",
       "      <th>36</th>\n",
       "      <td>A2</td>\n",
       "      <td>Noun</td>\n",
       "      <td>der</td>\n",
       "      <td>Stau</td>\n",
       "      <td>-</td>\n",
       "      <td>-</td>\n",
       "      <td>-</td>\n",
       "      <td>-</td>\n",
       "      <td>Staue</td>\n",
       "      <td>-</td>\n",
       "      <td>-</td>\n",
       "      <td>traffic</td>\n",
       "      <td>Tut mir leid, ich stehe im Stau</td>\n",
       "    </tr>\n",
       "    <tr>\n",
       "      <th>37</th>\n",
       "      <td>B1</td>\n",
       "      <td>Adjektive</td>\n",
       "      <td>-</td>\n",
       "      <td>speziell</td>\n",
       "      <td>-</td>\n",
       "      <td>-</td>\n",
       "      <td>-</td>\n",
       "      <td>-</td>\n",
       "      <td>-</td>\n",
       "      <td>spezieller</td>\n",
       "      <td>am speziellsten</td>\n",
       "      <td>special</td>\n",
       "      <td>Für Ausländer gibt es in allen Ländern speziel...</td>\n",
       "    </tr>\n",
       "    <tr>\n",
       "      <th>38</th>\n",
       "      <td>C1</td>\n",
       "      <td>Verb</td>\n",
       "      <td>-</td>\n",
       "      <td>ausreden</td>\n",
       "      <td>redet aus</td>\n",
       "      <td>redete aus</td>\n",
       "      <td>hat ausgeredet</td>\n",
       "      <td>1</td>\n",
       "      <td>-</td>\n",
       "      <td>-</td>\n",
       "      <td>-</td>\n",
       "      <td>make an excuse, talk out of, finish speaking</td>\n",
       "      <td>Lass mich doch ausreden !</td>\n",
       "    </tr>\n",
       "    <tr>\n",
       "      <th>39</th>\n",
       "      <td>A2</td>\n",
       "      <td>Noun</td>\n",
       "      <td>die</td>\n",
       "      <td>Ausrede</td>\n",
       "      <td>-</td>\n",
       "      <td>-</td>\n",
       "      <td>-</td>\n",
       "      <td>-</td>\n",
       "      <td>Ausreden</td>\n",
       "      <td>-</td>\n",
       "      <td>-</td>\n",
       "      <td>excuse</td>\n",
       "      <td>Tom hat immer Ausreden</td>\n",
       "    </tr>\n",
       "  </tbody>\n",
       "</table>\n",
       "</div>"
      ],
      "text/plain": [
       "   Diffuculty       Type Artikel         Word Konjugation  Prateritum  \\\n",
       "35         B2  Adjektive       -  weltbekannt           -           -   \n",
       "36         A2       Noun     der         Stau           -           -   \n",
       "37         B1  Adjektive       -     speziell           -           -   \n",
       "38         C1       Verb       -     ausreden   redet aus  redete aus   \n",
       "39         A2       Noun     die      Ausrede           -           -   \n",
       "\n",
       "           Perfekt Regelmäßige    Plural        Komparativ        Superlativ  \\\n",
       "35               -           -         -  keine komparativ  keine superlativ   \n",
       "36               -           -     Staue                 -                 -   \n",
       "37               -           -         -        spezieller   am speziellsten   \n",
       "38  hat ausgeredet           1         -                 -                 -   \n",
       "39               -           -  Ausreden                 -                 -   \n",
       "\n",
       "                                         Meaning  \\\n",
       "35                                  world-famous   \n",
       "36                                       traffic   \n",
       "37                                       special   \n",
       "38  make an excuse, talk out of, finish speaking   \n",
       "39                                        excuse   \n",
       "\n",
       "                                      Sample_Sentence  \n",
       "35                     Der Kölner Dom ist weltbekannt  \n",
       "36                    Tut mir leid, ich stehe im Stau  \n",
       "37  Für Ausländer gibt es in allen Ländern speziel...  \n",
       "38                          Lass mich doch ausreden !  \n",
       "39                             Tom hat immer Ausreden  "
      ]
     },
     "execution_count": 3,
     "metadata": {},
     "output_type": "execute_result"
    }
   ],
   "source": [
    "df.tail()"
   ]
  },
  {
   "cell_type": "markdown",
   "metadata": {},
   "source": [
    "## TODO ## \n",
    "\n",
    "1 - Add adjektive to the code + Add superlativ and komparativ forms to db\n",
    "\n",
    "2 - Add prateritum forms of the verbs to the code \n",
    "\n",
    "\n"
   ]
  },
  {
   "cell_type": "code",
   "execution_count": 4,
   "metadata": {},
   "outputs": [],
   "source": [
    "\n",
    "def start_trainer() : \n",
    "\n",
    "    print(\"What would you like to study ? \")\n",
    "\n",
    "    choose1 = int(input(\" 1 : Verb\\n 2 : Noun\\n 3 : Adjektive\\n\"))\n",
    "    print(\"\")\n",
    "\n",
    "    false_known_words = []\n",
    "\n",
    "\n",
    "    \n",
    "    words = pd.read_csv(\"Wörterbuch.csv\")\n",
    "    \n",
    "    \n",
    "    if choose1 == 1 : \n",
    "        \n",
    "        \n",
    "        selected_words = words[words[\"Type\"] == \"Verb\"]\n",
    "\n",
    "        for row in selected_words.itertuples():\n",
    "\n",
    "            print(f\"# Diffuculty {row.Diffuculty} -- {row.Word}\" )\n",
    "\n",
    "            val1 = input(f\"What is 3rd form of the verb\")\n",
    "            if val1 == row.Konjugation : \n",
    "                print(\"-->   Correct\")\n",
    "\n",
    "            else : \n",
    "                print(f\"-->   False, correct form would be {row.Konjugation}\")\n",
    "\n",
    "\n",
    "            val2 = input(f\"What is the perfekt form of the verb\")\n",
    "            if val2 == row.Perfekt : \n",
    "                print(\"-->   Correct\")\n",
    "\n",
    "            else : \n",
    "                print(f\"-->   False, correct form would be {row.Perfekt}\")       \n",
    "\n",
    "\n",
    "            val3 = input(f\"What is the präteritum form of the verb\")\n",
    "            if val3 == row.Prateritum : \n",
    "                print(\"-->   Correct\")\n",
    "            else : \n",
    "                print(f\"-->   False, correct form would be {row.Prateritum}\")       \n",
    "\n",
    "            \n",
    "            print(\"\")\n",
    "            print(\"-->   The meaning of the word is :\",row.Meaning)      \n",
    "          \n",
    "            print(\"Sample sentence : \", row.Sample_Sentence)\n",
    "\n",
    "            print(\"\")\n",
    "            print(\"<<<<<<<<<<<<<<<<<<<< *** <<<<<<<<<<<<<<<<<<<<\")\n",
    "            print(\"\")\n",
    "            \n",
    "\n",
    "\n",
    "    if choose1 == 2 : \n",
    "\n",
    "        selected_words = words[words[\"Type\"] == \"Noun\"]\n",
    "        \n",
    "        for row in selected_words.itertuples():\n",
    "            print(f\"# Diffuculty {row.Diffuculty} -- {row.Word}\" )\n",
    "    \n",
    "            val1 = input(\"What is artikel of the noun\")\n",
    "    \n",
    "            if val1.lower() == row.Artikel : \n",
    "                print(\"-->   Correct\")\n",
    "            else: \n",
    "                print(f\"-->   False, correct answer  would be {row.Artikel}\")\n",
    "    \n",
    "            val2 = input(\"What is plural form of the noun\")\n",
    "    \n",
    "            if val2.lower() == row.Plural.lower() : \n",
    "                print(\"-->   Correct\")\n",
    "            else : \n",
    "                print(f\"-->   False, correct answer  would be {row.Plural}\")\n",
    "\n",
    "\n",
    "\n",
    "            \n",
    "            print(\"\")\n",
    "            print(\"--> The meaning of the word is :\",row.Meaning)    \n",
    "\n",
    "    \n",
    "            print(\"Sample sentence : \", row.Sample_Sentence)\n",
    "\n",
    "            print(\"\")\n",
    "            print(\"<<<<<<<<<<<<<<<<<<<< *** <<<<<<<<<<<<<<<<<<<<\")\n",
    "            print(\"\")\n",
    "            \n",
    "\n",
    "\n",
    "    if choose1 == 3 :\n",
    "\n",
    "        selected_words = words[words[\"Type\"] == \"Adjektive\"]\n",
    "        \n",
    "        for row in selected_words.itertuples():\n",
    "            \n",
    "            print(f\"# Diffuculty {row.Diffuculty} -- {row.Word}\" )\n",
    "            \n",
    "            val1 = input(\"What is komparative form of the adjektive\")\n",
    "            \n",
    "            if val1.lower() == row.Komparativ : \n",
    "                print(\"-->   Correct\")\n",
    "            else: \n",
    "                print(f\"-->   False, correct answer  would be {row.Komparativ}\")\n",
    "\n",
    "            val2 = input(\"What is superlative form of the adjektive\")\n",
    "\n",
    "            if val2.lower() == row.Superlativ : \n",
    "                print(\"-->   Correct\")\n",
    "            else: \n",
    "                print(f\"-->   False, correct answer  would be {row.Superlativ}\")\n",
    "\n",
    "            \n",
    "            print(\"\")\n",
    "            print(\"--> The meaning of the word is :\",row.Meaning)    \n",
    "\n",
    "    \n",
    "            print(\"Sample sentence : \", row.Sample_Sentence)\n",
    "\n",
    "            print(\"\")\n",
    "            print(\"<<<<<<<<<<<<<<<<<<<< *** <<<<<<<<<<<<<<<<<<<<\")\n",
    "            print(\"\")\n",
    "            \n",
    "\n",
    "\n",
    "    "
   ]
  },
  {
   "cell_type": "code",
   "execution_count": 5,
   "metadata": {},
   "outputs": [
    {
     "name": "stdout",
     "output_type": "stream",
     "text": [
      "What would you like to study ? \n"
     ]
    },
    {
     "name": "stdin",
     "output_type": "stream",
     "text": [
      " 1 : Verb\n",
      " 2 : Noun\n",
      " 3 : Adjektive\n",
      " 1\n"
     ]
    },
    {
     "name": "stdout",
     "output_type": "stream",
     "text": [
      "\n",
      "# Diffuculty A2 -- essen\n"
     ]
    },
    {
     "name": "stdin",
     "output_type": "stream",
     "text": [
      "What is 3rd form of the verb isst\n"
     ]
    },
    {
     "name": "stdout",
     "output_type": "stream",
     "text": [
      "-->   Correct\n"
     ]
    },
    {
     "name": "stdin",
     "output_type": "stream",
     "text": [
      "What is the perfekt form of the verb hat gegessen\n"
     ]
    },
    {
     "name": "stdout",
     "output_type": "stream",
     "text": [
      "-->   Correct\n"
     ]
    },
    {
     "name": "stdin",
     "output_type": "stream",
     "text": [
      "What is the präteritum form of the verb aß\n"
     ]
    },
    {
     "name": "stdout",
     "output_type": "stream",
     "text": [
      "-->   Correct\n",
      "\n",
      "-->   The meaning of the word is : eat\n",
      "Sample sentence :  Ich esse ein Pizza. \n",
      "\n",
      "<<<<<<<<<<<<<<<<<<<< *** <<<<<<<<<<<<<<<<<<<<\n",
      "\n",
      "# Diffuculty A2 -- lesen\n"
     ]
    },
    {
     "name": "stdin",
     "output_type": "stream",
     "text": [
      "What is 3rd form of the verb liest\n"
     ]
    },
    {
     "name": "stdout",
     "output_type": "stream",
     "text": [
      "-->   Correct\n"
     ]
    },
    {
     "name": "stdin",
     "output_type": "stream",
     "text": [
      "What is the perfekt form of the verb hat gelesen\n"
     ]
    },
    {
     "name": "stdout",
     "output_type": "stream",
     "text": [
      "-->   Correct\n"
     ]
    },
    {
     "name": "stdin",
     "output_type": "stream",
     "text": [
      "What is the präteritum form of the verb laß\n"
     ]
    },
    {
     "name": "stdout",
     "output_type": "stream",
     "text": [
      "-->   False, correct form would be las\n",
      "\n",
      "-->   The meaning of the word is : read\n",
      "Sample sentence :  Er liest ein Buch. \n",
      "\n",
      "<<<<<<<<<<<<<<<<<<<< *** <<<<<<<<<<<<<<<<<<<<\n",
      "\n",
      "# Diffuculty A2 -- aufmachen\n"
     ]
    },
    {
     "name": "stdin",
     "output_type": "stream",
     "text": [
      "What is 3rd form of the verb macht auf\n"
     ]
    },
    {
     "name": "stdout",
     "output_type": "stream",
     "text": [
      "-->   Correct\n"
     ]
    },
    {
     "name": "stdin",
     "output_type": "stream",
     "text": [
      "What is the perfekt form of the verb hat aufgemacht\n"
     ]
    },
    {
     "name": "stdout",
     "output_type": "stream",
     "text": [
      "-->   Correct\n"
     ]
    },
    {
     "name": "stdin",
     "output_type": "stream",
     "text": [
      "What is the präteritum form of the verb machte auf\n"
     ]
    },
    {
     "name": "stdout",
     "output_type": "stream",
     "text": [
      "-->   Correct\n",
      "\n",
      "-->   The meaning of the word is : open\n",
      "Sample sentence :  Ich mache das Fenster auf.\n",
      "\n",
      "<<<<<<<<<<<<<<<<<<<< *** <<<<<<<<<<<<<<<<<<<<\n",
      "\n",
      "# Diffuculty A2 -- zumachen\n"
     ]
    },
    {
     "name": "stdin",
     "output_type": "stream",
     "text": [
      "What is 3rd form of the verb macht zu\n"
     ]
    },
    {
     "name": "stdout",
     "output_type": "stream",
     "text": [
      "-->   Correct\n"
     ]
    },
    {
     "name": "stdin",
     "output_type": "stream",
     "text": [
      "What is the perfekt form of the verb hat zugemacht\n"
     ]
    },
    {
     "name": "stdout",
     "output_type": "stream",
     "text": [
      "-->   Correct\n"
     ]
    },
    {
     "name": "stdin",
     "output_type": "stream",
     "text": [
      "What is the präteritum form of the verb machte zu\n"
     ]
    },
    {
     "name": "stdout",
     "output_type": "stream",
     "text": [
      "-->   Correct\n",
      "\n",
      "-->   The meaning of the word is : close\n",
      "Sample sentence :  Ich mache das Fenster zu.\n",
      "\n",
      "<<<<<<<<<<<<<<<<<<<< *** <<<<<<<<<<<<<<<<<<<<\n",
      "\n",
      "# Diffuculty A2 -- aufräumen\n"
     ]
    },
    {
     "name": "stdin",
     "output_type": "stream",
     "text": [
      "What is 3rd form of the verb räumt auf\n"
     ]
    },
    {
     "name": "stdout",
     "output_type": "stream",
     "text": [
      "-->   Correct\n"
     ]
    },
    {
     "name": "stdin",
     "output_type": "stream",
     "text": [
      "What is the perfekt form of the verb hat aufgeräumt\n"
     ]
    },
    {
     "name": "stdout",
     "output_type": "stream",
     "text": [
      "-->   Correct\n"
     ]
    },
    {
     "name": "stdin",
     "output_type": "stream",
     "text": [
      "What is the präteritum form of the verb räumte auf\n"
     ]
    },
    {
     "name": "stdout",
     "output_type": "stream",
     "text": [
      "-->   Correct\n",
      "\n",
      "-->   The meaning of the word is : tidy up\n",
      "Sample sentence :  Ich räume das Zimmer auf.\n",
      "\n",
      "<<<<<<<<<<<<<<<<<<<< *** <<<<<<<<<<<<<<<<<<<<\n",
      "\n",
      "# Diffuculty A2 -- gehen\n"
     ]
    },
    {
     "name": "stdin",
     "output_type": "stream",
     "text": [
      "What is 3rd form of the verb geht\n"
     ]
    },
    {
     "name": "stdout",
     "output_type": "stream",
     "text": [
      "-->   Correct\n"
     ]
    },
    {
     "name": "stdin",
     "output_type": "stream",
     "text": [
      "What is the perfekt form of the verb sein gegangen\n"
     ]
    },
    {
     "name": "stdout",
     "output_type": "stream",
     "text": [
      "-->   Correct\n"
     ]
    },
    {
     "name": "stdin",
     "output_type": "stream",
     "text": [
      "What is the präteritum form of the verb ging\n"
     ]
    },
    {
     "name": "stdout",
     "output_type": "stream",
     "text": [
      "-->   Correct\n",
      "\n",
      "-->   The meaning of the word is : go\n",
      "Sample sentence :  Sie sind ins Kino gegangen. \n",
      "\n",
      "<<<<<<<<<<<<<<<<<<<< *** <<<<<<<<<<<<<<<<<<<<\n",
      "\n",
      "# Diffuculty A2 -- fahren\n"
     ]
    },
    {
     "name": "stdin",
     "output_type": "stream",
     "text": [
      "What is 3rd form of the verb fährt\n"
     ]
    },
    {
     "name": "stdout",
     "output_type": "stream",
     "text": [
      "-->   Correct\n"
     ]
    },
    {
     "name": "stdin",
     "output_type": "stream",
     "text": [
      "What is the perfekt form of the verb sein gefahren\n"
     ]
    },
    {
     "name": "stdout",
     "output_type": "stream",
     "text": [
      "-->   Correct\n"
     ]
    },
    {
     "name": "stdin",
     "output_type": "stream",
     "text": [
      "What is the präteritum form of the verb \n"
     ]
    },
    {
     "name": "stdout",
     "output_type": "stream",
     "text": [
      "-->   False, correct form would be fuhr\n",
      "\n",
      "-->   The meaning of the word is : drive\n",
      "Sample sentence :  Du bist nach München gefahren.\n",
      "\n",
      "<<<<<<<<<<<<<<<<<<<< *** <<<<<<<<<<<<<<<<<<<<\n",
      "\n",
      "# Diffuculty A2 -- bleiben\n"
     ]
    },
    {
     "name": "stdin",
     "output_type": "stream",
     "text": [
      "What is 3rd form of the verb bliebt\n"
     ]
    },
    {
     "name": "stdout",
     "output_type": "stream",
     "text": [
      "-->   False, correct form would be bleibt\n"
     ]
    },
    {
     "name": "stdin",
     "output_type": "stream",
     "text": [
      "What is the perfekt form of the verb sein geblieben\n"
     ]
    },
    {
     "name": "stdout",
     "output_type": "stream",
     "text": [
      "-->   Correct\n"
     ]
    },
    {
     "name": "stdin",
     "output_type": "stream",
     "text": [
      "What is the präteritum form of the verb \n"
     ]
    },
    {
     "name": "stdout",
     "output_type": "stream",
     "text": [
      "-->   False, correct form would be blieb\n",
      "\n",
      "-->   The meaning of the word is : stay\n",
      "Sample sentence :  Ich bin in Wien geblieben.\n",
      "\n",
      "<<<<<<<<<<<<<<<<<<<< *** <<<<<<<<<<<<<<<<<<<<\n",
      "\n",
      "# Diffuculty A2 -- verlieren\n"
     ]
    },
    {
     "name": "stdin",
     "output_type": "stream",
     "text": [
      "What is 3rd form of the verb verliert\n"
     ]
    },
    {
     "name": "stdout",
     "output_type": "stream",
     "text": [
      "-->   Correct\n"
     ]
    },
    {
     "name": "stdin",
     "output_type": "stream",
     "text": [
      "What is the perfekt form of the verb hat verloren\n"
     ]
    },
    {
     "name": "stdout",
     "output_type": "stream",
     "text": [
      "-->   Correct\n"
     ]
    },
    {
     "name": "stdin",
     "output_type": "stream",
     "text": [
      "What is the präteritum form of the verb verliert\n"
     ]
    },
    {
     "name": "stdout",
     "output_type": "stream",
     "text": [
      "-->   False, correct form would be verlor\n",
      "\n",
      "-->   The meaning of the word is : lose\n",
      "Sample sentence :  Der Mann hat die Mütze verloren. \n",
      "\n",
      "<<<<<<<<<<<<<<<<<<<< *** <<<<<<<<<<<<<<<<<<<<\n",
      "\n",
      "# Diffuculty A2 -- kennen\n"
     ]
    },
    {
     "name": "stdin",
     "output_type": "stream",
     "text": [
      "What is 3rd form of the verb kennt\n"
     ]
    },
    {
     "name": "stdout",
     "output_type": "stream",
     "text": [
      "-->   Correct\n"
     ]
    },
    {
     "name": "stdin",
     "output_type": "stream",
     "text": [
      "What is the perfekt form of the verb hat gekennt\n"
     ]
    },
    {
     "name": "stdout",
     "output_type": "stream",
     "text": [
      "-->   False, correct form would be hat gekannt\n"
     ]
    },
    {
     "name": "stdin",
     "output_type": "stream",
     "text": [
      "What is the präteritum form of the verb kannt\n"
     ]
    },
    {
     "name": "stdout",
     "output_type": "stream",
     "text": [
      "-->   False, correct form would be kannte\n",
      "\n",
      "-->   The meaning of the word is : know\n",
      "Sample sentence :  Kennst du preiswerte Geschäfte ? \n",
      "\n",
      "<<<<<<<<<<<<<<<<<<<< *** <<<<<<<<<<<<<<<<<<<<\n",
      "\n",
      "# Diffuculty A2 -- zuordnen\n"
     ]
    },
    {
     "name": "stdin",
     "output_type": "stream",
     "text": [
      "What is 3rd form of the verb ordnet zu\n"
     ]
    },
    {
     "name": "stdout",
     "output_type": "stream",
     "text": [
      "-->   Correct\n"
     ]
    },
    {
     "name": "stdin",
     "output_type": "stream",
     "text": [
      "What is the perfekt form of the verb hat zugeordnet\n"
     ]
    },
    {
     "name": "stdout",
     "output_type": "stream",
     "text": [
      "-->   Correct\n"
     ]
    },
    {
     "name": "stdin",
     "output_type": "stream",
     "text": [
      "What is the präteritum form of the verb ordnete zu\n"
     ]
    },
    {
     "name": "stdout",
     "output_type": "stream",
     "text": [
      "-->   Correct\n",
      "\n",
      "-->   The meaning of the word is : assign\n",
      "Sample sentence :  Jeder Wohnung ist ein Garten zugeordnet. \n",
      "\n",
      "<<<<<<<<<<<<<<<<<<<< *** <<<<<<<<<<<<<<<<<<<<\n",
      "\n",
      "# Diffuculty A2 -- treffen\n"
     ]
    },
    {
     "name": "stdin",
     "output_type": "stream",
     "text": [
      "What is 3rd form of the verb trifft\n"
     ]
    },
    {
     "name": "stdout",
     "output_type": "stream",
     "text": [
      "-->   Correct\n"
     ]
    },
    {
     "name": "stdin",
     "output_type": "stream",
     "text": [
      "What is the perfekt form of the verb hat getroffen\n"
     ]
    },
    {
     "name": "stdout",
     "output_type": "stream",
     "text": [
      "-->   Correct\n"
     ]
    },
    {
     "name": "stdin",
     "output_type": "stream",
     "text": [
      "What is the präteritum form of the verb triff\n"
     ]
    },
    {
     "name": "stdout",
     "output_type": "stream",
     "text": [
      "-->   False, correct form would be traf\n",
      "\n",
      "-->   The meaning of the word is : meet with\n",
      "Sample sentence :  Hast du ihn getroffen ? \n",
      "\n",
      "<<<<<<<<<<<<<<<<<<<< *** <<<<<<<<<<<<<<<<<<<<\n",
      "\n",
      "# Diffuculty A2 -- vorstellen\n"
     ]
    },
    {
     "name": "stdin",
     "output_type": "stream",
     "text": [
      "What is 3rd form of the verb vorstellt\n"
     ]
    },
    {
     "name": "stdout",
     "output_type": "stream",
     "text": [
      "-->   False, correct form would be stellt vor\n"
     ]
    },
    {
     "name": "stdin",
     "output_type": "stream",
     "text": [
      "What is the perfekt form of the verb hat vorgestellt\n"
     ]
    },
    {
     "name": "stdout",
     "output_type": "stream",
     "text": [
      "-->   Correct\n"
     ]
    },
    {
     "name": "stdin",
     "output_type": "stream",
     "text": [
      "What is the präteritum form of the verb \n"
     ]
    },
    {
     "name": "stdout",
     "output_type": "stream",
     "text": [
      "-->   False, correct form would be stellte vor\n",
      "\n",
      "-->   The meaning of the word is : imagine, introduce\n",
      "Sample sentence :  Sie hat mich seinem Bruder vorgestellt. \n",
      "\n",
      "<<<<<<<<<<<<<<<<<<<< *** <<<<<<<<<<<<<<<<<<<<\n",
      "\n",
      "# Diffuculty B1 -- trennen\n"
     ]
    },
    {
     "name": "stdin",
     "output_type": "stream",
     "text": [
      "What is 3rd form of the verb trennt\n"
     ]
    },
    {
     "name": "stdout",
     "output_type": "stream",
     "text": [
      "-->   Correct\n"
     ]
    },
    {
     "name": "stdin",
     "output_type": "stream",
     "text": [
      "What is the perfekt form of the verb hat getrennt\n"
     ]
    },
    {
     "name": "stdout",
     "output_type": "stream",
     "text": [
      "-->   Correct\n"
     ]
    },
    {
     "name": "stdin",
     "output_type": "stream",
     "text": [
      "What is the präteritum form of the verb \n"
     ]
    },
    {
     "name": "stdout",
     "output_type": "stream",
     "text": [
      "-->   False, correct form would be trennte\n",
      "\n",
      "-->   The meaning of the word is : split up, separate\n",
      "Sample sentence :  Wir möchten bitte zahlen. Zusammen oder getrennt ? \n",
      "\n",
      "<<<<<<<<<<<<<<<<<<<< *** <<<<<<<<<<<<<<<<<<<<\n",
      "\n",
      "# Diffuculty B1 -- vertrauen\n"
     ]
    },
    {
     "name": "stdin",
     "output_type": "stream",
     "text": [
      "What is 3rd form of the verb vertraut\n"
     ]
    },
    {
     "name": "stdout",
     "output_type": "stream",
     "text": [
      "-->   Correct\n"
     ]
    },
    {
     "name": "stdin",
     "output_type": "stream",
     "text": [
      "What is the perfekt form of the verb hat vertraut\n"
     ]
    },
    {
     "name": "stdout",
     "output_type": "stream",
     "text": [
      "-->   Correct\n"
     ]
    },
    {
     "name": "stdin",
     "output_type": "stream",
     "text": [
      "What is the präteritum form of the verb vertraute\n"
     ]
    },
    {
     "name": "stdout",
     "output_type": "stream",
     "text": [
      "-->   Correct\n",
      "\n",
      "-->   The meaning of the word is : trust\n",
      "Sample sentence :  Vertrau ihm nicht. \n",
      "\n",
      "<<<<<<<<<<<<<<<<<<<< *** <<<<<<<<<<<<<<<<<<<<\n",
      "\n",
      "# Diffuculty A2 -- gefallen\n"
     ]
    },
    {
     "name": "stdin",
     "output_type": "stream",
     "text": [
      "What is 3rd form of the verb gefällt\n"
     ]
    },
    {
     "name": "stdout",
     "output_type": "stream",
     "text": [
      "-->   Correct\n"
     ]
    },
    {
     "name": "stdin",
     "output_type": "stream",
     "text": [
      "What is the perfekt form of the verb hat gefallen\n"
     ]
    },
    {
     "name": "stdout",
     "output_type": "stream",
     "text": [
      "-->   Correct\n"
     ]
    },
    {
     "name": "stdin",
     "output_type": "stream",
     "text": [
      "What is the präteritum form of the verb gefallte\n"
     ]
    },
    {
     "name": "stdout",
     "output_type": "stream",
     "text": [
      "-->   False, correct form would be gefiel\n",
      "\n",
      "-->   The meaning of the word is : like\n",
      "Sample sentence :  Du gefällst mir.\n",
      "\n",
      "<<<<<<<<<<<<<<<<<<<< *** <<<<<<<<<<<<<<<<<<<<\n",
      "\n",
      "# Diffuculty A2 -- gehören\n"
     ]
    },
    {
     "name": "stdin",
     "output_type": "stream",
     "text": [
      "What is 3rd form of the verb gehört\n"
     ]
    },
    {
     "name": "stdout",
     "output_type": "stream",
     "text": [
      "-->   Correct\n"
     ]
    },
    {
     "name": "stdin",
     "output_type": "stream",
     "text": [
      "What is the perfekt form of the verb hat gehört\n"
     ]
    },
    {
     "name": "stdout",
     "output_type": "stream",
     "text": [
      "-->   Correct\n"
     ]
    },
    {
     "name": "stdin",
     "output_type": "stream",
     "text": [
      "What is the präteritum form of the verb gehörte\n"
     ]
    },
    {
     "name": "stdout",
     "output_type": "stream",
     "text": [
      "-->   Correct\n",
      "\n",
      "-->   The meaning of the word is : belong\n",
      "Sample sentence :  Das gehört meinem Bruder. \n",
      "\n",
      "<<<<<<<<<<<<<<<<<<<< *** <<<<<<<<<<<<<<<<<<<<\n",
      "\n",
      "# Diffuculty A2 -- helfen\n"
     ]
    },
    {
     "name": "stdin",
     "output_type": "stream",
     "text": [
      "What is 3rd form of the verb hilft\n"
     ]
    },
    {
     "name": "stdout",
     "output_type": "stream",
     "text": [
      "-->   Correct\n"
     ]
    },
    {
     "name": "stdin",
     "output_type": "stream",
     "text": [
      "What is the perfekt form of the verb hat geholfen\n"
     ]
    },
    {
     "name": "stdout",
     "output_type": "stream",
     "text": [
      "-->   Correct\n"
     ]
    },
    {
     "name": "stdin",
     "output_type": "stream",
     "text": [
      "What is the präteritum form of the verb \n"
     ]
    },
    {
     "name": "stdout",
     "output_type": "stream",
     "text": [
      "-->   False, correct form would be half\n",
      "\n",
      "-->   The meaning of the word is : help\n",
      "Sample sentence :  Die Kinder helfen ihm. \n",
      "\n",
      "<<<<<<<<<<<<<<<<<<<< *** <<<<<<<<<<<<<<<<<<<<\n",
      "\n",
      "# Diffuculty A2 -- nehmen\n"
     ]
    },
    {
     "name": "stdin",
     "output_type": "stream",
     "text": [
      "What is 3rd form of the verb nimmt\n"
     ]
    },
    {
     "name": "stdout",
     "output_type": "stream",
     "text": [
      "-->   Correct\n"
     ]
    },
    {
     "name": "stdin",
     "output_type": "stream",
     "text": [
      "What is the perfekt form of the verb hat genommen\n"
     ]
    },
    {
     "name": "stdout",
     "output_type": "stream",
     "text": [
      "-->   Correct\n"
     ]
    },
    {
     "name": "stdin",
     "output_type": "stream",
     "text": [
      "What is the präteritum form of the verb namm\n"
     ]
    },
    {
     "name": "stdout",
     "output_type": "stream",
     "text": [
      "-->   False, correct form would be nahm\n",
      "\n",
      "-->   The meaning of the word is : take\n",
      "Sample sentence :  Nimm die Medikamente ! \n",
      "\n",
      "<<<<<<<<<<<<<<<<<<<< *** <<<<<<<<<<<<<<<<<<<<\n",
      "\n",
      "# Diffuculty A2 -- vergessen\n"
     ]
    },
    {
     "name": "stdin",
     "output_type": "stream",
     "text": [
      "What is 3rd form of the verb vergisst\n"
     ]
    },
    {
     "name": "stdout",
     "output_type": "stream",
     "text": [
      "-->   Correct\n"
     ]
    },
    {
     "name": "stdin",
     "output_type": "stream",
     "text": [
      "What is the perfekt form of the verb hat vergossen\n"
     ]
    },
    {
     "name": "stdout",
     "output_type": "stream",
     "text": [
      "-->   False, correct form would be hat vergessen\n"
     ]
    },
    {
     "name": "stdin",
     "output_type": "stream",
     "text": [
      "What is the präteritum form of the verb vergisste\n"
     ]
    },
    {
     "name": "stdout",
     "output_type": "stream",
     "text": [
      "-->   False, correct form would be vergaß\n",
      "\n",
      "-->   The meaning of the word is : forget\n",
      "Sample sentence :  Vergesst eure Pässe nicht.\n",
      "\n",
      "<<<<<<<<<<<<<<<<<<<< *** <<<<<<<<<<<<<<<<<<<<\n",
      "\n",
      "# Diffuculty A2 -- bestellen\n"
     ]
    },
    {
     "name": "stdin",
     "output_type": "stream",
     "text": [
      "What is 3rd form of the verb bestellt\n"
     ]
    },
    {
     "name": "stdout",
     "output_type": "stream",
     "text": [
      "-->   Correct\n"
     ]
    },
    {
     "name": "stdin",
     "output_type": "stream",
     "text": [
      "What is the perfekt form of the verb hat bestellt\n"
     ]
    },
    {
     "name": "stdout",
     "output_type": "stream",
     "text": [
      "-->   Correct\n"
     ]
    },
    {
     "name": "stdin",
     "output_type": "stream",
     "text": [
      "What is the präteritum form of the verb bestellte\n"
     ]
    },
    {
     "name": "stdout",
     "output_type": "stream",
     "text": [
      "-->   Correct\n",
      "\n",
      "-->   The meaning of the word is : order\n",
      "Sample sentence :  Wer hat die Heiße Schokolade bestellt ? \n",
      "\n",
      "<<<<<<<<<<<<<<<<<<<< *** <<<<<<<<<<<<<<<<<<<<\n",
      "\n",
      "# Diffuculty A2 -- lassen\n"
     ]
    },
    {
     "name": "stdin",
     "output_type": "stream",
     "text": [
      "What is 3rd form of the verb lasst\n"
     ]
    },
    {
     "name": "stdout",
     "output_type": "stream",
     "text": [
      "-->   False, correct form would be lässt\n"
     ]
    },
    {
     "name": "stdin",
     "output_type": "stream",
     "text": [
      "What is the perfekt form of the verb hat gelassen\n"
     ]
    },
    {
     "name": "stdout",
     "output_type": "stream",
     "text": [
      "-->   Correct\n"
     ]
    },
    {
     "name": "stdin",
     "output_type": "stream",
     "text": [
      "What is the präteritum form of the verb lasste\n"
     ]
    },
    {
     "name": "stdout",
     "output_type": "stream",
     "text": [
      "-->   False, correct form would be ließ\n",
      "\n",
      "-->   The meaning of the word is : let, leave, give up, stop\n",
      "Sample sentence :  Ich lasse das Rauchen\n",
      "Sie lässt sein Motorrad in der Garage stehen \n",
      "Der Laptop lässt sich nicht reparieren\n",
      "Du lässt dir eine Pizza bringen\n",
      "\n",
      "<<<<<<<<<<<<<<<<<<<< *** <<<<<<<<<<<<<<<<<<<<\n",
      "\n",
      "# Diffuculty A2 -- bekommen\n"
     ]
    },
    {
     "name": "stdin",
     "output_type": "stream",
     "text": [
      "What is 3rd form of the verb bekommt\n"
     ]
    },
    {
     "name": "stdout",
     "output_type": "stream",
     "text": [
      "-->   Correct\n"
     ]
    },
    {
     "name": "stdin",
     "output_type": "stream",
     "text": [
      "What is the perfekt form of the verb hat bekommen\n"
     ]
    },
    {
     "name": "stdout",
     "output_type": "stream",
     "text": [
      "-->   Correct\n"
     ]
    },
    {
     "name": "stdin",
     "output_type": "stream",
     "text": [
      "What is the präteritum form of the verb bekommte\n"
     ]
    },
    {
     "name": "stdout",
     "output_type": "stream",
     "text": [
      "-->   False, correct form would be bekam\n",
      "\n",
      "-->   The meaning of the word is : receive,get\n",
      "Sample sentence :  Ich habe deinen Brief vorgestern bekommen\n",
      "\n",
      "<<<<<<<<<<<<<<<<<<<< *** <<<<<<<<<<<<<<<<<<<<\n",
      "\n",
      "# Diffuculty A2 -- merken\n"
     ]
    },
    {
     "name": "stdin",
     "output_type": "stream",
     "text": [
      "What is 3rd form of the verb merkt\n"
     ]
    },
    {
     "name": "stdout",
     "output_type": "stream",
     "text": [
      "-->   Correct\n"
     ]
    },
    {
     "name": "stdin",
     "output_type": "stream",
     "text": [
      "What is the perfekt form of the verb hat gemerken\n"
     ]
    },
    {
     "name": "stdout",
     "output_type": "stream",
     "text": [
      "-->   False, correct form would be hat gemerkt\n"
     ]
    },
    {
     "name": "stdin",
     "output_type": "stream",
     "text": [
      "What is the präteritum form of the verb merkte\n"
     ]
    },
    {
     "name": "stdout",
     "output_type": "stream",
     "text": [
      "-->   Correct\n",
      "\n",
      "-->   The meaning of the word is : notice, realize, remember\n",
      "Sample sentence :  Ich merke es genau, ich bekomme einen Schnupfen. \n",
      "\n",
      "<<<<<<<<<<<<<<<<<<<< *** <<<<<<<<<<<<<<<<<<<<\n",
      "\n",
      "# Diffuculty A2 -- aufhören\n"
     ]
    },
    {
     "name": "stdin",
     "output_type": "stream",
     "text": [
      "What is 3rd form of the verb hört auf\n"
     ]
    },
    {
     "name": "stdout",
     "output_type": "stream",
     "text": [
      "-->   Correct\n"
     ]
    },
    {
     "name": "stdin",
     "output_type": "stream",
     "text": [
      "What is the perfekt form of the verb hat aufgehört\n"
     ]
    },
    {
     "name": "stdout",
     "output_type": "stream",
     "text": [
      "-->   Correct\n"
     ]
    },
    {
     "name": "stdin",
     "output_type": "stream",
     "text": [
      "What is the präteritum form of the verb hörte auf\n"
     ]
    },
    {
     "name": "stdout",
     "output_type": "stream",
     "text": [
      "-->   Correct\n",
      "\n",
      "-->   The meaning of the word is : stop, quit\n",
      "Sample sentence :  Bis er das Rauchen aufgehört hat, hat er pro Tag circa 20 Zigaretten geraucht\n",
      "\n",
      "<<<<<<<<<<<<<<<<<<<< *** <<<<<<<<<<<<<<<<<<<<\n",
      "\n",
      "# Diffuculty C1 -- ausreden\n"
     ]
    },
    {
     "name": "stdin",
     "output_type": "stream",
     "text": [
      "What is 3rd form of the verb redet aus\n"
     ]
    },
    {
     "name": "stdout",
     "output_type": "stream",
     "text": [
      "-->   Correct\n"
     ]
    },
    {
     "name": "stdin",
     "output_type": "stream",
     "text": [
      "What is the perfekt form of the verb hat ausgeredet\n"
     ]
    },
    {
     "name": "stdout",
     "output_type": "stream",
     "text": [
      "-->   Correct\n"
     ]
    },
    {
     "name": "stdin",
     "output_type": "stream",
     "text": [
      "What is the präteritum form of the verb redete aus\n"
     ]
    },
    {
     "name": "stdout",
     "output_type": "stream",
     "text": [
      "-->   Correct\n",
      "\n",
      "-->   The meaning of the word is : make an excuse, talk out of, finish speaking\n",
      "Sample sentence :  Lass mich doch ausreden !\n",
      "\n",
      "<<<<<<<<<<<<<<<<<<<< *** <<<<<<<<<<<<<<<<<<<<\n",
      "\n"
     ]
    }
   ],
   "source": [
    "start_trainer()"
   ]
  },
  {
   "cell_type": "code",
   "execution_count": null,
   "metadata": {},
   "outputs": [],
   "source": []
  },
  {
   "cell_type": "code",
   "execution_count": null,
   "metadata": {},
   "outputs": [],
   "source": []
  }
 ],
 "metadata": {
  "kernelspec": {
   "display_name": "Python 3 (ipykernel)",
   "language": "python",
   "name": "python3"
  },
  "language_info": {
   "codemirror_mode": {
    "name": "ipython",
    "version": 3
   },
   "file_extension": ".py",
   "mimetype": "text/x-python",
   "name": "python",
   "nbconvert_exporter": "python",
   "pygments_lexer": "ipython3",
   "version": "3.10.12"
  },
  "vscode": {
   "interpreter": {
    "hash": "aee8b7b246df8f9039afb4144a1f6fd8d2ca17a180786b69acc140d282b71a49"
   }
  }
 },
 "nbformat": 4,
 "nbformat_minor": 4
}
